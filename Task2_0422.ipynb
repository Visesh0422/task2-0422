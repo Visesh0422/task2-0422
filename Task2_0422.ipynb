{
  "nbformat": 4,
  "nbformat_minor": 0,
  "metadata": {
    "colab": {
      "provenance": [],
      "toc_visible": true,
      "authorship_tag": "ABX9TyPV+xE+RPB8jjHQrP+z1px9",
      "include_colab_link": true
    },
    "kernelspec": {
      "name": "python3",
      "display_name": "Python 3"
    },
    "language_info": {
      "name": "python"
    }
  },
  "cells": [
    {
      "cell_type": "markdown",
      "metadata": {
        "id": "view-in-github",
        "colab_type": "text"
      },
      "source": [
        "<a href=\"https://colab.research.google.com/github/Visesh0422/task2-0422/blob/main/Task2_0422.ipynb\" target=\"_parent\"><img src=\"https://colab.research.google.com/assets/colab-badge.svg\" alt=\"Open In Colab\"/></a>"
      ]
    },
    {
      "cell_type": "code",
      "execution_count": null,
      "metadata": {
        "colab": {
          "base_uri": "https://localhost:8080/"
        },
        "id": "bJXGTV2tq2Ip",
        "outputId": "9d2cfb83-7a0d-4921-f7d0-810b5266eee6"
      },
      "outputs": [
        {
          "output_type": "stream",
          "name": "stdout",
          "text": [
            "Sum of 10 and 20 is 30\n"
          ]
        }
      ],
      "source": [
        "# Hardcoded Variables Example\n",
        "# Program: Calculate the sum of two numbers\n",
        "num1 = 10  # Hardcoded value\n",
        "num2 = 20  # Hardcoded value\n",
        "\n",
        "result = num1 + num2\n",
        "print(f\"Sum of {num1} and {num2} is {result}\")"
      ]
    },
    {
      "cell_type": "code",
      "source": [
        "\n",
        "# Keyboard Input Example\n",
        "# Program: Calculate the sum of two numbers with user input\n",
        "try:\n",
        "    num1 = int(input(\"Enter the first number: \"))  # User input\n",
        "    num2 = int(input(\"Enter the second number: \"))  # User input\n",
        "    result = num1 + num2\n",
        "    print(f\"Sum of {num1} and {num2} is {result}\")\n",
        "except ValueError:\n",
        "    print(\"Invalid input! Please enter numeric values.\")\n"
      ],
      "metadata": {
        "colab": {
          "base_uri": "https://localhost:8080/"
        },
        "id": "TLJeA-2asAi3",
        "outputId": "4871b880-3938-48eb-cc89-71f990756401"
      },
      "execution_count": null,
      "outputs": [
        {
          "output_type": "stream",
          "name": "stdout",
          "text": [
            "Enter the first number: 54\n",
            "Enter the second number: 65\n",
            "Sum of 54 and 65 is 119\n"
          ]
        }
      ]
    },
    {
      "cell_type": "code",
      "source": [
        "with open('single_input.txt', 'w') as file:\n",
        "    file.write(\"25\")  # Write a single number to the file\n",
        "print(\"single_input.txt created!\")\n"
      ],
      "metadata": {
        "colab": {
          "base_uri": "https://localhost:8080/"
        },
        "id": "IBxmWNa5sPal",
        "outputId": "6df85a10-53e1-4f00-da1d-3277ac5d721e"
      },
      "execution_count": null,
      "outputs": [
        {
          "output_type": "stream",
          "name": "stdout",
          "text": [
            "single_input.txt created!\n"
          ]
        }
      ]
    },
    {
      "cell_type": "code",
      "source": [
        "# Read From File (Single Input) Example\n",
        "# Program: Read a single number from a file and add 10\n",
        "try:\n",
        "    with open('single_input.txt', 'r') as file:\n",
        "        num = int(file.read().strip())  # Read and strip whitespace\n",
        "        result = num + 10\n",
        "        print(f\"Number from file: {num}, After addition: {result}\")\n",
        "except FileNotFoundError:\n",
        "    print(\"File not found. Please create a file named 'single_input.txt'.\")\n",
        "except ValueError:\n",
        "    print(\"File content must be a valid integer.\")\n"
      ],
      "metadata": {
        "colab": {
          "base_uri": "https://localhost:8080/"
        },
        "id": "MgsmDKv4sV_z",
        "outputId": "47b1ee4e-143a-46c3-decc-a077aa3eea0d"
      },
      "execution_count": null,
      "outputs": [
        {
          "output_type": "stream",
          "name": "stdout",
          "text": [
            "Number from file: 25, After addition: 35\n"
          ]
        }
      ]
    },
    {
      "cell_type": "code",
      "source": [
        "with open('multiple_inputs.txt', 'w') as file:\n",
        "    file.write(\"10\\n20\\n30\")  # Write multiple numbers, each on a new line\n",
        "print(\"multiple_inputs.txt created!\")"
      ],
      "metadata": {
        "colab": {
          "base_uri": "https://localhost:8080/"
        },
        "id": "JpzcIW_ds1w6",
        "outputId": "5cb9dfe9-3df0-452d-e075-967c014eb5e1"
      },
      "execution_count": null,
      "outputs": [
        {
          "output_type": "stream",
          "name": "stdout",
          "text": [
            "multiple_inputs.txt created!\n"
          ]
        }
      ]
    },
    {
      "cell_type": "code",
      "source": [
        "# Read From File (Multiple Inputs) Example\n",
        "# Program: Read multiple numbers from a file and calculate their sum\n",
        "try:\n",
        "    with open('multiple_inputs.txt', 'r') as file:\n",
        "        numbers = file.readlines()\n",
        "        numbers = [int(num.strip()) for num in numbers]  # Convert to integers\n",
        "        result = sum(numbers)\n",
        "        print(f\"Numbers from file: {numbers}, Sum: {result}\")\n",
        "except FileNotFoundError:\n",
        "    print(\"File not found. Please create a file named 'multiple_inputs.txt'.\")\n",
        "except ValueError:\n",
        "    print(\"File content must contain valid integers.\")\n",
        "\n"
      ],
      "metadata": {
        "colab": {
          "base_uri": "https://localhost:8080/"
        },
        "id": "21b5orZtskz8",
        "outputId": "f01c796c-a0ab-4931-b76d-3cd19aa4d7c5"
      },
      "execution_count": null,
      "outputs": [
        {
          "output_type": "stream",
          "name": "stdout",
          "text": [
            "Numbers from file: [10, 20, 30], Sum: 60\n"
          ]
        }
      ]
    }
  ]
}